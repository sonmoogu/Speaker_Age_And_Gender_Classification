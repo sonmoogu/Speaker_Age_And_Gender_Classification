{
  "nbformat": 4,
  "nbformat_minor": 0,
  "metadata": {
    "colab": {
      "name": "Untitled9.ipynb의 사본",
      "provenance": []
    },
    "kernelspec": {
      "name": "python3",
      "display_name": "Python 3"
    },
    "language_info": {
      "name": "python"
    },
    "accelerator": "GPU"
  },
  "cells": [
    {
      "cell_type": "code",
      "metadata": {
        "colab": {
          "base_uri": "https://localhost:8080/"
        },
        "id": "4eTcoE4hnZtB",
        "outputId": "1998581f-ab0d-4a9b-84aa-6d5313891203"
      },
      "source": [
        "from google.colab import drive\n",
        "drive.mount('/content/drive')"
      ],
      "execution_count": null,
      "outputs": [
        {
          "output_type": "stream",
          "text": [
            "Mounted at /content/drive\n"
          ],
          "name": "stdout"
        }
      ]
    },
    {
      "cell_type": "code",
      "metadata": {
        "id": "ODhGIHcqngW8"
      },
      "source": [
        "import os\n",
        "import cv2\n",
        "from PIL import Image\n",
        "import tensorflow as tf\n",
        "from keras import backend as K\n",
        "from keras.models import load_model\n",
        "from keras.preprocessing.image import img_to_array\n",
        "from tensorflow.keras.optimizers import Adam, RMSprop\n",
        "from tensorflow.keras.callbacks import ReduceLROnPlateau\n",
        "from tensorflow.keras.preprocessing.image import ImageDataGenerator"
      ],
      "execution_count": null,
      "outputs": []
    },
    {
      "cell_type": "code",
      "metadata": {
        "id": "1HFvMTkknoFL"
      },
      "source": [
        "base_dir = '/content/drive/MyDrive/ColabNotebooks/Age_estimation_dataset'\n",
        "train_dir = '/content/drive/MyDrive/ColabNotebooks/Age_estimation_dataset/train'\n",
        "train_child_dir = '/content/drive/MyDrive/ColabNotebooks/Age_estimation_dataset/train/kid'\n",
        "train_old_dir = '/content/drive/MyDrive/ColabNotebooks/Age_estimation_dataset/train/old'\n",
        "train_med_dir = '/content/drive/MyDrive/ColabNotebooks/Age_estimation_dataset/train/med'\n",
        "test_dir = '/content/drive/MyDrive/ColabNotebooks/Age_estimation_dataset/test'\n",
        "test_child_dir = '/content/drive/MyDrive/ColabNotebooks/Age_estimation_dataset/test/kid'\n",
        "test_old_dir = '/content/drive/MyDrive/ColabNotebooks/Age_estimation_dataset/test/old'\n",
        "test_med_dir = '/content/drive/MyDrive/ColabNotebooks/Age_estimation_dataset/test/med'\n",
        "valid_dir = '/content/drive/MyDrive/ColabNotebooks/Age_estimation_dataset/validation'\n",
        "valid_child_dir = '/content/drive/MyDrive/ColabNotebooks/Age_estimation_dataset/validation/kid'\n",
        "valid_old_dir = '/content/drive/MyDrive/ColabNotebooks/Age_estimation_dataset/validation/old'\n",
        "valid_med_dir = '/content/drive/MyDrive/ColabNotebooks/Age_estimation_dataset/validation/med'"
      ],
      "execution_count": null,
      "outputs": []
    },
    {
      "cell_type": "code",
      "metadata": {
        "id": "8Ae4smQvnqr-"
      },
      "source": [
        "num_child_train = len(os.listdir(train_child_dir))\n",
        "num_old_train = len(os.listdir(train_old_dir))\n",
        "num_med_train = len(os.listdir(train_med_dir))\n",
        "\n",
        "num_child_validation = len(os.listdir(valid_child_dir))\n",
        "num_old_validation= len(os.listdir(valid_old_dir))\n",
        "num_med_validation= len(os.listdir(valid_med_dir))\n",
        "\n",
        "num_child_test = len(os.listdir(test_child_dir))\n",
        "num_old_test = len(os.listdir(test_old_dir))\n",
        "num_med_test= len(os.listdir(test_med_dir))"
      ],
      "execution_count": null,
      "outputs": []
    },
    {
      "cell_type": "code",
      "metadata": {
        "colab": {
          "base_uri": "https://localhost:8080/"
        },
        "id": "iAPXMQ5pnsvR",
        "outputId": "13f59758-88e1-40d1-de31-9e773a1b12d1"
      },
      "source": [
        "print(\"Total Training CHILD Images\",num_child_train)\n",
        "print(\"Total Training OLD Images\",num_old_train)\n",
        "print(\"Total Training MED Images\",num_med_train)\n",
        "print(\"--\")\n",
        "print(\"Total validation CHILD Images\",num_child_validation)\n",
        "print(\"Total validation OLD Images\",num_old_validation)\n",
        "print(\"Total validation MED Images\",num_med_validation)\n",
        "print(\"--\")\n",
        "print(\"Total Test CHILD Images\", num_child_test)\n",
        "print(\"Total Test OLD Images\", num_old_test)\n",
        "print(\"Total Test MED Images\",num_med_test)\n",
        "\n",
        "total_train = num_child_train+num_old_train+num_med_train\n",
        "total_validation = num_child_validation+num_old_validation+num_med_validation\n",
        "total_test = num_child_test+num_old_test+num_med_test\n",
        "print(\"--\")\n",
        "print(\"Total Training Images\",total_train)\n",
        "print(\"--\")\n",
        "print(\"Total Validation Images\",total_validation)\n",
        "print(\"--\")\n",
        "print(\"Total Testing Images\",total_test)"
      ],
      "execution_count": null,
      "outputs": [
        {
          "output_type": "stream",
          "text": [
            "Total Training CHILD Images 6000\n",
            "Total Training OLD Images 5999\n",
            "Total Training MED Images 6000\n",
            "--\n",
            "Total validation CHILD Images 2000\n",
            "Total validation OLD Images 2000\n",
            "Total validation MED Images 2000\n",
            "--\n",
            "Total Test CHILD Images 2000\n",
            "Total Test OLD Images 2000\n",
            "Total Test MED Images 2000\n",
            "--\n",
            "Total Training Images 17999\n",
            "--\n",
            "Total Validation Images 6000\n",
            "--\n",
            "Total Testing Images 6000\n"
          ],
          "name": "stdout"
        }
      ]
    },
    {
      "cell_type": "code",
      "metadata": {
        "id": "dOo2-6QooOIN"
      },
      "source": [
        "IMG_SHAPE  = 224\n",
        "batch_size = 32"
      ],
      "execution_count": null,
      "outputs": []
    },
    {
      "cell_type": "code",
      "metadata": {
        "colab": {
          "base_uri": "https://localhost:8080/"
        },
        "id": "s2Ft9eT5oQh3",
        "outputId": "a9b4f6a7-e8e4-4eb2-d63d-fb775bcbfc29"
      },
      "source": [
        "image_gen_train = ImageDataGenerator(rescale = 1./255)\n",
        "train_data_gen = image_gen_train.flow_from_directory(batch_size = batch_size,\n",
        "directory = train_dir,\n",
        "shuffle= True,\n",
        "target_size = (IMG_SHAPE,IMG_SHAPE),\n",
        "class_mode = 'categorical')\n",
        "#classes=['kid','med','old'])\n", #도커에서 사용할 시 체크포인트 파일 자동 생성으로 인해 클래스 인식이 잘 되지 않으므로 직접 지정한다.
        "image_generator_validation = ImageDataGenerator(rescale=1./255)\n",
        "val_data_gen = image_generator_validation.flow_from_directory(batch_size=batch_size,\n",
        "directory=valid_dir,\n",
        "target_size=(IMG_SHAPE, IMG_SHAPE),\n",
        "class_mode='categorical')\n",
        "#classes=['kid','med','old'])\n", #도커에서 사용할 시 체크포인트 파일 자동 생성으로 인해 클래스 인식이 잘 되지 않으므로 직접 지정한다.
        "image_gen_test = ImageDataGenerator(rescale=1./255)\n",
        "test_data_gen = image_gen_test.flow_from_directory(batch_size=batch_size,\n",
        "directory=test_dir,\n",
        "target_size=(IMG_SHAPE, IMG_SHAPE),\n",
        "class_mode='categorical')\n",
        "#classes=['kid','med','old'])" #도커에서 사용할 시 체크포인트 파일 자동 생성으로 인해 클래스 인식이 잘 되지 않으므로 직접 지정한다.
      ],
      "execution_count": null,
      "outputs": [
        {
          "output_type": "stream",
          "text": [
            "Found 17999 images belonging to 3 classes.\n",
            "Found 6000 images belonging to 3 classes.\n",
            "Found 6000 images belonging to 3 classes.\n"
          ],
          "name": "stdout"
        }
      ]
    },
    {
      "cell_type": "code",
      "metadata": {
        "colab": {
          "base_uri": "https://localhost:8080/"
        },
        "id": "IloRk_jSoVBv",
        "outputId": "c6ae37f9-8d23-46e4-af89-ec8de189d388"
      },
      "source": [
        "pre_trained_model = tf.keras.applications.VGG16(input_shape=(224, 224, 3), include_top=False, weights=\"imagenet\")"
      ],
      "execution_count": null,
      "outputs": [
        {
          "output_type": "stream",
          "text": [
            "Downloading data from https://storage.googleapis.com/tensorflow/keras-applications/vgg16/vgg16_weights_tf_dim_ordering_tf_kernels_notop.h5\n",
            "58892288/58889256 [==============================] - 1s 0us/step\n",
            "58900480/58889256 [==============================] - 1s 0us/step\n"
          ],
          "name": "stdout"
        }
      ]
    },
    {
      "cell_type": "code",
      "metadata": {
        "colab": {
          "base_uri": "https://localhost:8080/"
        },
        "id": "814Y1cayoXdT",
        "outputId": "19c4a98b-f928-4365-8b46-bc9c6d634255"
      },
      "source": [
        "for layer in pre_trained_model.layers:\n",
        "  print(layer.name)\n",
        "layer.trainable = False"
      ],
      "execution_count": null,
      "outputs": [
        {
          "output_type": "stream",
          "text": [
            "input_1\n",
            "block1_conv1\n",
            "block1_conv2\n",
            "block1_pool\n",
            "block2_conv1\n",
            "block2_conv2\n",
            "block2_pool\n",
            "block3_conv1\n",
            "block3_conv2\n",
            "block3_conv3\n",
            "block3_pool\n",
            "block4_conv1\n",
            "block4_conv2\n",
            "block4_conv3\n",
            "block4_pool\n",
            "block5_conv1\n",
            "block5_conv2\n",
            "block5_conv3\n",
            "block5_pool\n"
          ],
          "name": "stdout"
        }
      ]
    },
    {
      "cell_type": "code",
      "metadata": {
        "id": "jCOP3hoaoaM_"
      },
      "source": [
        "last_layer = pre_trained_model.get_layer('block5_pool')\n",
        "last_output = last_layer.output\n",
        "x = tf.keras.layers.GlobalMaxPooling2D()(last_output)\n",
        "x = tf.keras.layers.Dense(512, activation='relu')(x)\n",
        "x = tf.keras.layers.Dropout(0.5)(x)\n",
        "x = tf.keras.layers.Dense(3, activation='softmax')(x)"
      ],
      "execution_count": null,
      "outputs": []
    },
    {
      "cell_type": "code",
      "metadata": {
        "id": "frUzqx69oeGY"
      },
      "source": [
        "model = tf.keras.Model(pre_trained_model.input, x)"
      ],
      "execution_count": null,
      "outputs": []
    },
    {
      "cell_type": "code",
      "metadata": {
        "id": "3bIF5YoIof-S"
      },
      "source": [
        "model.compile(optimizer='adam', loss=tf.keras.losses.categorical_crossentropy, metrics=['acc'])"
      ],
      "execution_count": null,
      "outputs": []
    },
    {
      "cell_type": "code",
      "metadata": {
        "colab": {
          "base_uri": "https://localhost:8080/"
        },
        "id": "OaDZY1uPoheW",
        "outputId": "898a1bd3-e3e9-4758-b78e-5823e8dc0785"
      },
      "source": [
        "vgg_classifier = model.fit(train_data_gen,\n",
        "steps_per_epoch=(total_train//batch_size),\n",
        "#steps_per_epoch=100,\n",
        "epochs = 4,\n",
        "validation_data=val_data_gen,\n",
        "validation_steps=(total_validation//batch_size),\n",
        "#validation_steps=100,\n",
        "batch_size = batch_size,\n",
        "verbose = 1)\n",
        "#callbacks=[cp_callback])"
      ],
      "execution_count": null,
      "outputs": [
        {
          "output_type": "stream",
          "text": [
            "Epoch 1/4\n",
            "562/562 [==============================] - 11574s 21s/step - loss: 0.6471 - acc: 0.6936 - val_loss: 0.8806 - val_acc: 0.7726\n",
            "Epoch 2/4\n",
            "562/562 [==============================] - 502s 894ms/step - loss: 0.1523 - acc: 0.9509 - val_loss: 0.8468 - val_acc: 0.8302\n",
            "Epoch 3/4\n",
            "562/562 [==============================] - 500s 890ms/step - loss: 0.1136 - acc: 0.9688 - val_loss: 0.5338 - val_acc: 0.9124\n",
            "Epoch 4/4\n",
            "562/562 [==============================] - 500s 890ms/step - loss: 0.0502 - acc: 0.9834 - val_loss: 0.7140 - val_acc: 0.9103\n"
          ],
          "name": "stdout"
        }
      ]
    },
    {
      "cell_type": "code",
      "metadata": {
        "colab": {
          "base_uri": "https://localhost:8080/"
        },
        "id": "7hzVZKGdomDR",
        "outputId": "bf6c2080-12a9-4484-d44b-58e3206a4944"
      },
      "source": [
        "result = model.evaluate(test_data_gen,batch_size=batch_size)\n",
        "print(\"test_loss, test accuracy\",result)"
      ],
      "execution_count": null,
      "outputs": [
        {
          "output_type": "stream",
          "text": [
            " 31/188 [===>..........................] - ETA: 44:11 - loss: 10.0584 - acc: 0.3740"
          ],
          "name": "stdout"
        }
      ]
    },
    {
      "cell_type": "code",
      "metadata": {
        "id": "7WyyyOH3cDSu"
      },
      "source": [
        "model_json = model.to_json()\n",
        "with open(\"/home/tf2/VGG16/VGG_AGE_Classifier_free.json\", \"w\") as json_file:\n",
        "  json_file.write(model_json)\n",
        "model.save(\"/home/tf2/VGG16/VGG_AGE_Classifier_free.h5\")\n",
        "print(\"Saved model to disk\")\n",
        "model.save_weights(\"/home/tf2/VGG16/VGG_AGE_Classifier_free.h5\")"
      ],
      "execution_count": null,
      "outputs": []
    }
  ]
}
