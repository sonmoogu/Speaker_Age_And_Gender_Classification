{
 "cells": [
  {
   "cell_type": "code",
   "execution_count": 1,
   "metadata": {
    "id": "Hl4XdqmTC2SO"
   },
   "outputs": [],
   "source": [
    "import urllib.request\n",
    "import zipfile\n",
    "import numpy as np\n",
    "from IPython.display import Image\n",
    "\n",
    "import tensorflow as tf\n",
    "from tensorflow.keras.layers import Conv2D, MaxPooling2D, Flatten, Dropout, Dense, BatchNormalization\n",
    "from tensorflow.keras.models import Sequential\n",
    "from tensorflow.keras.preprocessing.image import ImageDataGenerator\n",
    "from tensorflow.keras.callbacks import ModelCheckpoint"
   ]
  },
  {
   "cell_type": "markdown",
   "metadata": {
    "id": "NvzO8h0uDKDW"
   },
   "source": [
    "## STEP 1. Load Dataset"
   ]
  },
  {
   "cell_type": "markdown",
   "metadata": {
    "id": "eBXXZp2RDNeU"
   },
   "source": [
    "### 어린이,노인남녀,일반남녀 Mel_Spec 이미지로 구성\n"
   ]
  },
  {
   "cell_type": "code",
   "execution_count": 3,
   "metadata": {
    "colab": {
     "base_uri": "https://localhost:8080/"
    },
    "id": "g_3NEWaa4yZh",
    "outputId": "b261a63a-b1e5-4b6a-b1fc-991559b977df"
   },
   "outputs": [
    {
     "name": "stdout",
     "output_type": "stream",
     "text": [
      "Number of total train examples: 18002\n"
     ]
    }
   ],
   "source": [
    "base = tf.io.gfile.glob(str('/home/tf2/VGG16/Dataset/train') + '/*/*')\n",
    "base = tf.random.shuffle(base)\n",
    "num_samples = len(base)\n",
    "print('Number of total train examples:', num_samples)"
   ]
  },
  {
   "cell_type": "markdown",
   "metadata": {
    "id": "fNukZvVCFIVP"
   },
   "source": [
    "## STEP 2. 전처리 (ImageDataGenerator)"
   ]
  },
  {
   "cell_type": "code",
   "execution_count": 7,
   "metadata": {
    "id": "oBA9eKFkkgqo"
   },
   "outputs": [],
   "source": [
    "train_dir = '/home/tf2/VGG16/Dataset/train'\n",
    "test_dir = '/home/tf2/VGG16/Dataset/test'\n",
    "valid_dir = '/home/tf2/VGG16/Dataset/validation'"
   ]
  },
  {
   "cell_type": "code",
   "execution_count": 8,
   "metadata": {
    "id": "-WVFRQgKFJkM"
   },
   "outputs": [],
   "source": [
    "training_datagen = ImageDataGenerator(\n",
    "    rescale=1. / 255,\n",
    "    )"
   ]
  },
  {
   "cell_type": "markdown",
   "metadata": {
    "id": "c4yEzUrhFxmt"
   },
   "source": [
    "### Training_generator / Validation_generator / Test_generator"
   ]
  },
  {
   "cell_type": "code",
   "execution_count": 9,
   "metadata": {
    "colab": {
     "base_uri": "https://localhost:8080/"
    },
    "id": "jhM7W6XeFj4d",
    "outputId": "f1e9276e-7ce1-4330-d57e-fd44438d5d90"
   },
   "outputs": [
    {
     "name": "stdout",
     "output_type": "stream",
     "text": [
      "Found 17999 images belonging to 3 classes.\n"
     ]
    }
   ],
   "source": [
    "training_generator = training_datagen.flow_from_directory(train_dir, \n",
    "                                                          batch_size=128,\n",
    "                                                          target_size=(224,224),\n",
    "                                                          class_mode='categorical',\n",
    "                                                          subset='training',\n",
    "                                                          classes=['kid','med','old']\n",
    "                                                         )"
   ]
  },
  {
   "cell_type": "code",
   "execution_count": 10,
   "metadata": {
    "colab": {
     "base_uri": "https://localhost:8080/"
    },
    "id": "9r0ruh9CF2N9",
    "outputId": "96868f8e-eab1-4a50-9e20-7072378ef7fd"
   },
   "outputs": [
    {
     "name": "stdout",
     "output_type": "stream",
     "text": [
      "Found 6000 images belonging to 3 classes.\n"
     ]
    }
   ],
   "source": [
    "validation_generator = training_datagen.flow_from_directory(valid_dir, \n",
    "                                                          batch_size=128,\n",
    "                                                          target_size=(224,224),\n",
    "                                                          class_mode='categorical',\n",
    "                                                          classes=['kid','med','old']\n",
    "                                                         )"
   ]
  },
  {
   "cell_type": "code",
   "execution_count": 11,
   "metadata": {
    "colab": {
     "base_uri": "https://localhost:8080/"
    },
    "id": "lxIr4wgTGDUF",
    "outputId": "344a5639-6546-4b4c-bcb3-2fee730f71c4"
   },
   "outputs": [
    {
     "name": "stdout",
     "output_type": "stream",
     "text": [
      "Found 6000 images belonging to 3 classes.\n"
     ]
    }
   ],
   "source": [
    "test_generator = training_datagen.flow_from_directory(test_dir, \n",
    "                                                          batch_size=128,\n",
    "                                                          target_size=(224,224),\n",
    "                                                          class_mode='categorical',\n",
    "                                                          classes=['kid','med','old']\n",
    "                                                         )"
   ]
  },
  {
   "cell_type": "markdown",
   "metadata": {
    "id": "BGhF_kuzLTD-"
   },
   "source": [
    "## STEP 3. 모델 정의 (Sequential)"
   ]
  },
  {
   "cell_type": "code",
   "execution_count": 12,
   "metadata": {
    "colab": {
     "base_uri": "https://localhost:8080/"
    },
    "id": "oh1NuLakMk2e",
    "outputId": "8c49f558-6786-43d7-dadf-40b300142e89"
   },
   "outputs": [
    {
     "name": "stdout",
     "output_type": "stream",
     "text": [
      "Model: \"sequential\"\n",
      "_________________________________________________________________\n",
      "Layer (type)                 Output Shape              Param #   \n",
      "=================================================================\n",
      "conv2d (Conv2D)              (None, 222, 222, 32)      896       \n",
      "_________________________________________________________________\n",
      "max_pooling2d (MaxPooling2D) (None, 111, 111, 32)      0         \n",
      "_________________________________________________________________\n",
      "batch_normalization (BatchNo (None, 111, 111, 32)      128       \n",
      "_________________________________________________________________\n",
      "conv2d_1 (Conv2D)            (None, 109, 109, 32)      9248      \n",
      "_________________________________________________________________\n",
      "max_pooling2d_1 (MaxPooling2 (None, 54, 54, 32)        0         \n",
      "_________________________________________________________________\n",
      "batch_normalization_1 (Batch (None, 54, 54, 32)        128       \n",
      "_________________________________________________________________\n",
      "conv2d_2 (Conv2D)            (None, 52, 52, 64)        18496     \n",
      "_________________________________________________________________\n",
      "max_pooling2d_2 (MaxPooling2 (None, 26, 26, 64)        0         \n",
      "_________________________________________________________________\n",
      "batch_normalization_2 (Batch (None, 26, 26, 64)        256       \n",
      "_________________________________________________________________\n",
      "conv2d_3 (Conv2D)            (None, 24, 24, 64)        36928     \n",
      "_________________________________________________________________\n",
      "max_pooling2d_3 (MaxPooling2 (None, 12, 12, 64)        0         \n",
      "_________________________________________________________________\n",
      "batch_normalization_3 (Batch (None, 12, 12, 64)        256       \n",
      "_________________________________________________________________\n",
      "flatten (Flatten)            (None, 9216)              0         \n",
      "_________________________________________________________________\n",
      "dropout (Dropout)            (None, 9216)              0         \n",
      "_________________________________________________________________\n",
      "dense (Dense)                (None, 512)               4719104   \n",
      "_________________________________________________________________\n",
      "dense_1 (Dense)              (None, 3)                 1539      \n",
      "=================================================================\n",
      "Total params: 4,786,979\n",
      "Trainable params: 4,786,595\n",
      "Non-trainable params: 384\n",
      "_________________________________________________________________\n"
     ]
    }
   ],
   "source": [
    "model = Sequential([\n",
    "    \n",
    "    Conv2D(32, (3, 3), activation='relu', kernel_initializer=\"he_normal\" ,input_shape=(224, 224, 3)),\n",
    "    MaxPooling2D(2, 2),\n",
    "    BatchNormalization(), \n",
    "    Conv2D(32, (3, 3), activation='relu',kernel_initializer=\"he_normal\"),\n",
    "    MaxPooling2D(2, 2),\n",
    "    BatchNormalization(),\n",
    "    Conv2D(64, (3, 3), activation='relu', kernel_initializer=\"he_normal\"),\n",
    "    MaxPooling2D(2, 2), \n",
    "    BatchNormalization(),\n",
    "    Conv2D(64, (3, 3), activation='relu', kernel_initializer=\"he_normal\"),\n",
    "    MaxPooling2D(2, 2),\n",
    "    BatchNormalization(),\n",
    "    # 2D -> 1D로 변환을 위하여 Flatten 합니다.\n",
    "    Flatten(),\n",
    "    # 과적합 방지를 위하여 Dropout을 적용합니다.z\n",
    "    Dropout(0.5),\n",
    "    # Dense\n",
    "    Dense(512, activation='relu'),\n",
    "    # Classification을 위한 Softmax \n",
    "    # 출력층의 갯수는 클래스의 갯수와 동일하게 맞춰줍니다 (3개), activation도 잊지마세요!\n",
    "    Dense(3, activation='softmax'),\n",
    "])\n",
    "model.summary()"
   ]
  },
  {
   "cell_type": "markdown",
   "metadata": {
    "id": "EqM5ID8vMvvP"
   },
   "source": [
    "## STEP 4. 컴파일 (compile)"
   ]
  },
  {
   "cell_type": "code",
   "execution_count": 14,
   "metadata": {
    "collapsed": true
   },
   "outputs": [
    {
     "name": "stdout",
     "output_type": "stream",
     "text": [
      "Requirement already satisfied: keras in /usr/local/lib/python3.6/dist-packages (1.2.2)\n",
      "Requirement already satisfied: theano in /usr/local/lib/python3.6/dist-packages (from keras) (0.9.0)\n",
      "Requirement already satisfied: six in /usr/local/lib/python3.6/dist-packages (from keras) (1.16.0)\n",
      "Requirement already satisfied: pyyaml in /usr/local/lib/python3.6/dist-packages (from keras) (3.12)\n",
      "Requirement already satisfied: numpy>=1.9.1 in /usr/local/lib/python3.6/dist-packages (from theano->keras) (1.17.0)\n",
      "Requirement already satisfied: scipy>=0.14 in /usr/local/lib/python3.6/dist-packages (from theano->keras) (1.5.4)\n",
      "\u001b[33mWARNING: Running pip as the 'root' user can result in broken permissions and conflicting behaviour with the system package manager. It is recommended to use a virtual environment instead: https://pip.pypa.io/warnings/venv\u001b[0m\n",
      "\u001b[33mWARNING: You are using pip version 21.2.3; however, version 21.2.4 is available.\n",
      "You should consider upgrading via the '/usr/bin/python3 -m pip install --upgrade pip' command.\u001b[0m\n"
     ]
    }
   ],
   "source": [
    "!pip install keras"
   ]
  },
  {
   "cell_type": "code",
   "execution_count": 17,
   "metadata": {
    "id": "SDk9yUM2Mm--"
   },
   "outputs": [],
   "source": [
    "from tensorflow.keras import optimizers\n",
    "tf.keras.optimizers.SGD(learning_rate=0.1, momentum=0.9, nesterov=True)\n",
    "model.compile(optimizer='SGD', loss='categorical_crossentropy', metrics=['acc'])"
   ]
  },
  {
   "cell_type": "markdown",
   "metadata": {
    "id": "neO2gCxzMxa_"
   },
   "source": [
    "## STEP 5. ModelCheckpoint"
   ]
  },
  {
   "cell_type": "markdown",
   "metadata": {
    "id": "SA8lac2fM1dm"
   },
   "source": [
    "`val_loss` 기준으로 epoch 마다 최적의 모델을 저장하기 위하여, ModelCheckpoint를 만듭니다.\n",
    "* `checkpoint_path`는 모델이 저장될 파일 명을 설정합니다.\n",
    "* `ModelCheckpoint`을 선언하고, 적절한 옵션 값을 지정합니다."
   ]
  },
  {
   "cell_type": "code",
   "execution_count": 18,
   "metadata": {
    "id": "cWGX5PHsM2eO"
   },
   "outputs": [],
   "source": [
    "checkpoint_path = \"sgd_checkpoint.ckpt\"\n",
    "checkpoint = ModelCheckpoint(filepath=checkpoint_path, \n",
    "                             save_weights_only=True, \n",
    "                             save_best_only=True, \n",
    "                             monitor='val_loss', \n",
    "                             verbose=1)"
   ]
  },
  {
   "cell_type": "markdown",
   "metadata": {
    "id": "q4c0tf7xM4PX"
   },
   "source": [
    "## STEP 6. 학습 (fit)"
   ]
  },
  {
   "cell_type": "code",
   "execution_count": 19,
   "metadata": {
    "colab": {
     "base_uri": "https://localhost:8080/",
     "height": 1000
    },
    "id": "xELMKT39M7KA",
    "outputId": "385036f0-2015-48a0-d518-aac53c3da86f"
   },
   "outputs": [
    {
     "name": "stdout",
     "output_type": "stream",
     "text": [
      "Epoch 1/20\n",
      "141/141 [==============================] - 445s 3s/step - loss: 0.8335 - acc: 0.6074 - val_loss: 0.7826 - val_acc: 0.6868\n",
      "\n",
      "Epoch 00001: val_loss improved from inf to 0.78263, saving model to sgd_checkpoint.ckpt\n",
      "Epoch 2/20\n",
      "141/141 [==============================] - 435s 3s/step - loss: 0.5347 - acc: 0.6491 - val_loss: 0.7538 - val_acc: 0.5237\n",
      "\n",
      "Epoch 00002: val_loss improved from 0.78263 to 0.75376, saving model to sgd_checkpoint.ckpt\n",
      "Epoch 3/20\n",
      "141/141 [==============================] - 436s 3s/step - loss: 0.5059 - acc: 0.6596 - val_loss: 0.5760 - val_acc: 0.5880\n",
      "\n",
      "Epoch 00003: val_loss improved from 0.75376 to 0.57604, saving model to sgd_checkpoint.ckpt\n",
      "Epoch 4/20\n",
      "141/141 [==============================] - 403s 3s/step - loss: 0.4923 - acc: 0.6613 - val_loss: 0.7285 - val_acc: 0.5102\n",
      "\n",
      "Epoch 00004: val_loss did not improve from 0.57604\n",
      "Epoch 5/20\n",
      "141/141 [==============================] - 405s 3s/step - loss: 0.4850 - acc: 0.6619 - val_loss: 1.2942 - val_acc: 0.5900\n",
      "\n",
      "Epoch 00005: val_loss did not improve from 0.57604\n",
      "Epoch 6/20\n",
      "141/141 [==============================] - 391s 3s/step - loss: 0.4818 - acc: 0.6634 - val_loss: 1.4890 - val_acc: 0.5753\n",
      "\n",
      "Epoch 00006: val_loss did not improve from 0.57604\n",
      "Epoch 7/20\n",
      "141/141 [==============================] - 387s 3s/step - loss: 0.4787 - acc: 0.6645 - val_loss: 1.6039 - val_acc: 0.4082\n",
      "\n",
      "Epoch 00007: val_loss did not improve from 0.57604\n",
      "Epoch 8/20\n",
      "141/141 [==============================] - 387s 3s/step - loss: 0.4783 - acc: 0.6609 - val_loss: 2.1902 - val_acc: 0.4427\n",
      "\n",
      "Epoch 00008: val_loss did not improve from 0.57604\n",
      "Epoch 9/20\n",
      "141/141 [==============================] - 385s 3s/step - loss: 0.4760 - acc: 0.6628 - val_loss: 1.8353 - val_acc: 0.6440\n",
      "\n",
      "Epoch 00009: val_loss did not improve from 0.57604\n",
      "Epoch 10/20\n",
      "141/141 [==============================] - 407s 3s/step - loss: 0.4737 - acc: 0.6600 - val_loss: 1.4482 - val_acc: 0.4103\n",
      "\n",
      "Epoch 00010: val_loss did not improve from 0.57604\n",
      "Epoch 11/20\n",
      "141/141 [==============================] - 408s 3s/step - loss: 0.4732 - acc: 0.6610 - val_loss: 1.6741 - val_acc: 0.6667\n",
      "\n",
      "Epoch 00011: val_loss did not improve from 0.57604\n",
      "Epoch 12/20\n",
      "141/141 [==============================] - 406s 3s/step - loss: 0.4725 - acc: 0.6613 - val_loss: 1.9480 - val_acc: 0.4347\n",
      "\n",
      "Epoch 00012: val_loss did not improve from 0.57604\n",
      "Epoch 13/20\n",
      "141/141 [==============================] - 403s 3s/step - loss: 0.4708 - acc: 0.6642 - val_loss: 1.9214 - val_acc: 0.6715\n",
      "\n",
      "Epoch 00013: val_loss did not improve from 0.57604\n",
      "Epoch 14/20\n",
      "141/141 [==============================] - 425s 3s/step - loss: 0.4707 - acc: 0.6625 - val_loss: 2.0165 - val_acc: 0.6545\n",
      "\n",
      "Epoch 00014: val_loss did not improve from 0.57604\n",
      "Epoch 15/20\n",
      "141/141 [==============================] - 401s 3s/step - loss: 0.4705 - acc: 0.6632 - val_loss: 1.8411 - val_acc: 0.3892\n",
      "\n",
      "Epoch 00015: val_loss did not improve from 0.57604\n",
      "Epoch 16/20\n",
      "141/141 [==============================] - 407s 3s/step - loss: 0.4704 - acc: 0.6620 - val_loss: 1.9963 - val_acc: 0.5905\n",
      "\n",
      "Epoch 00016: val_loss did not improve from 0.57604\n",
      "Epoch 17/20\n",
      "141/141 [==============================] - 406s 3s/step - loss: 0.4681 - acc: 0.6687 - val_loss: 1.7334 - val_acc: 0.4015\n",
      "\n",
      "Epoch 00017: val_loss did not improve from 0.57604\n",
      "Epoch 18/20\n",
      "141/141 [==============================] - 408s 3s/step - loss: 0.4693 - acc: 0.6688 - val_loss: 1.8473 - val_acc: 0.6008\n",
      "\n",
      "Epoch 00018: val_loss did not improve from 0.57604\n",
      "Epoch 19/20\n",
      "141/141 [==============================] - 413s 3s/step - loss: 0.4695 - acc: 0.6629 - val_loss: 2.3435 - val_acc: 0.3955\n",
      "\n",
      "Epoch 00019: val_loss did not improve from 0.57604\n",
      "Epoch 20/20\n",
      "141/141 [==============================] - 405s 3s/step - loss: 0.4691 - acc: 0.6643 - val_loss: 1.8032 - val_acc: 0.4332\n",
      "\n",
      "Epoch 00020: val_loss did not improve from 0.57604\n"
     ]
    }
   ],
   "source": [
    "epochs=20\n",
    "history = model.fit(training_generator,\n",
    "                    validation_data=(validation_generator),\n",
    "                    epochs=epochs,\n",
    "                    callbacks=[checkpoint]\n",
    "                    )"
   ]
  },
  {
   "cell_type": "markdown",
   "metadata": {
    "id": "b5m3b3VIQiki"
   },
   "source": [
    "## STEP 7. 학습 완료 후 Load Weights (ModelCheckpoint)"
   ]
  },
  {
   "cell_type": "code",
   "execution_count": 20,
   "metadata": {
    "colab": {
     "base_uri": "https://localhost:8080/"
    },
    "id": "Kd1Ox-tZNMo-",
    "outputId": "8cf3472d-fd11-4047-a2a6-421445447179"
   },
   "outputs": [
    {
     "data": {
      "text/plain": [
       "<tensorflow.python.training.tracking.util.CheckpointLoadStatus at 0x7f6857d23a90>"
      ]
     },
     "execution_count": 20,
     "metadata": {},
     "output_type": "execute_result"
    }
   ],
   "source": [
    "model.load_weights(checkpoint_path)"
   ]
  },
  {
   "cell_type": "code",
   "execution_count": 21,
   "metadata": {
    "colab": {
     "base_uri": "https://localhost:8080/"
    },
    "id": "Ds54dvfUQmb_",
    "outputId": "d5a0b615-26f5-4e92-feaf-db7e20882af3"
   },
   "outputs": [
    {
     "name": "stdout",
     "output_type": "stream",
     "text": [
      "47/47 [==============================] - 86s 2s/step - loss: 0.5760 - acc: 0.5880\n"
     ]
    },
    {
     "data": {
      "text/plain": [
       "[0.5760390162467957, 0.5879999995231628]"
      ]
     },
     "execution_count": 21,
     "metadata": {},
     "output_type": "execute_result"
    }
   ],
   "source": [
    "model.evaluate(validation_generator)"
   ]
  },
  {
   "cell_type": "code",
   "execution_count": 22,
   "metadata": {},
   "outputs": [
    {
     "name": "stdout",
     "output_type": "stream",
     "text": [
      "47/47 [==============================] - 89s 2s/step - loss: 1.7935 - acc: 0.4518\n"
     ]
    },
    {
     "data": {
      "text/plain": [
       "[1.7935353517532349, 0.4518333375453949]"
      ]
     },
     "execution_count": 22,
     "metadata": {},
     "output_type": "execute_result"
    }
   ],
   "source": [
    "model.evaluate(test_generator)"
   ]
  },
  {
   "cell_type": "code",
   "execution_count": 23,
   "metadata": {
    "id": "elI9DtUFQnmv"
   },
   "outputs": [],
   "source": [
    "import matplotlib.pyplot as plt"
   ]
  },
  {
   "cell_type": "code",
   "execution_count": 24,
   "metadata": {
    "colab": {
     "base_uri": "https://localhost:8080/",
     "height": 572
    },
    "id": "--XbUWsZQrFf",
    "outputId": "95794868-c1b2-4e70-8520-99d9969f763a"
   },
   "outputs": [
    {
     "data": {
      "image/png": "[encoded data removed]",
      "text/plain": [
       "<matplotlib.figure.Figure at 0x7f684b2d8128>"
      ]
     },
     "metadata": {
      "needs_background": "light"
     },
     "output_type": "display_data"
    }
   ],
   "source": [
    "plt.figure(figsize=(12, 9))\n",
    "plt.plot(np.arange(1, epochs+1), history.history['loss'])\n",
    "plt.plot(np.arange(1, epochs+1), history.history['val_loss'])\n",
    "plt.title('Loss / Val Loss', fontsize=20)\n",
    "plt.xlabel('Epochs')\n",
    "plt.ylabel('Loss')\n",
    "plt.legend(['loss', 'val_loss'], fontsize=15)\n",
    "plt.show()"
   ]
  },
  {
   "cell_type": "code",
   "execution_count": 25,
   "metadata": {
    "colab": {
     "base_uri": "https://localhost:8080/",
     "height": 409
    },
    "id": "NT7f0ic7Qson",
    "outputId": "a7350fb0-e47b-4e16-ae2f-25e1469aa048"
   },
   "outputs": [
    {
     "data": {
      "image/png": "[encoded data removed]",
      "text/plain": [
       "<matplotlib.figure.Figure at 0x7f684920aa90>"
      ]
     },
     "metadata": {
      "needs_background": "light"
     },
     "output_type": "display_data"
    }
   ],
   "source": [
    "plt.figure(figsize=(9, 6))\n",
    "plt.plot(np.arange(1, epochs+1), history.history['acc'])\n",
    "plt.plot(np.arange(1, epochs+1), history.history['val_acc'])\n",
    "plt.title('Acc / Val Acc', fontsize=20)\n",
    "plt.xlabel('Epochs')\n",
    "plt.ylabel('Accuracy')\n",
    "plt.legend(['acc', 'val_acc'], fontsize=15)\n",
    "plt.show()"
   ]
  },
  {
   "cell_type": "code",
   "execution_count": null,
   "metadata": {
    "id": "SXH61VlQQwDn"
   },
   "outputs": [],
   "source": []
  }
 ],
 "metadata": {
  "accelerator": "GPU",
  "colab": {
   "collapsed_sections": [],
   "machine_shape": "hm",
   "name": "CNN2D_Age_Classification.ipynb",
   "provenance": []
  },
  "kernelspec": {
   "display_name": "Python 3",
   "language": "python",
   "name": "python3"
  },
  "language_info": {
   "codemirror_mode": {
    "name": "ipython",
    "version": 3
   },
   "file_extension": ".py",
   "mimetype": "text/x-python",
   "name": "python",
   "nbconvert_exporter": "python",
   "pygments_lexer": "ipython3",
   "version": "3.6.9"
  }
 },
 "nbformat": 4,
 "nbformat_minor": 1
}
